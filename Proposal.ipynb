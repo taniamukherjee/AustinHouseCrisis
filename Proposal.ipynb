{
 "cells": [
  {
   "cell_type": "markdown",
   "metadata": {},
   "source": [
    "# Project Title: The Housing Crisis in Austin\n",
    "\n",
    "Team Members: Andrew Price, Umu Lamboi, Min Kim, Tania Mukherjee\n",
    "\n",
    "# Project Description/Outline:\n",
    "\n",
    "For our project, we'd like to understand why housing costs in Austin have gotten so high, and what variables are contributing to this increase?\n",
    "\n",
    "Phase 1:\n",
    "0: Introduction - why we wanna do it.. our inspiration. \n",
    "1: Explore Austin vs. surrounding areas (data source and API: austin.gov)\n",
    "2: Measure growth of austin over the decade (houseprice , rent, jobs(avg salary), crimes, traffic, gdp) coming areas(zipcodes, isds) \n",
    "\n",
    "Phase 2: (try api from zillow , airbnb)\n",
    "\n",
    "Phase 3: (how many airlines increased/decrease direct flight to austin/car sales)\n",
    "3: Plots to see the trends\n",
    "4: Analysis...lesson learned\n",
    "5: Presentation \n",
    "6: Celebrate and go for beer \n",
    "\n",
    "# Research Questions to Answer: \n",
    "\n",
    "Why have housing costs in Austin gotten so high? \n",
    "What variables are contributing to this increase?\n",
    "\n",
    "# Datasets: \n",
    "\n",
    "U.S. Censes Data & data.austin.gov\n",
    "\n",
    "# Tasks: \n",
    "1: data mining \n",
    "2: data cleaning and data combining to a single data frame\n",
    "3: analyses and plot\n",
    "4:analyse the plot\n",
    "5: look at the results and out the correlation \n",
    "6: things we might overlooked"
   ]
  }
 ],
 "metadata": {
  "kernelspec": {
   "display_name": "Python 3",
   "language": "python",
   "name": "python3"
  },
  "language_info": {
   "codemirror_mode": {
    "name": "ipython",
    "version": 3
   },
   "file_extension": ".py",
   "mimetype": "text/x-python",
   "name": "python",
   "nbconvert_exporter": "python",
   "pygments_lexer": "ipython3",
   "version": "3.6.2"
  }
 },
 "nbformat": 4,
 "nbformat_minor": 2
}
